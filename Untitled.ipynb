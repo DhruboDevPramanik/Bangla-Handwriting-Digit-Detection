{
 "cells": [
  {
   "cell_type": "code",
   "execution_count": 25,
   "id": "308e93f1-3bb8-4f00-b7c4-3c4f17ec76bb",
   "metadata": {},
   "outputs": [
    {
     "name": "stdout",
     "output_type": "stream",
     "text": [
      "Defaulting to user installation because normal site-packages is not writeable\n",
      "Requirement already satisfied: pyscreenshot in c:\\users\\hp\\appdata\\roaming\\python\\python37\\site-packages (3.1)\n",
      "Requirement already satisfied: entrypoint2 in c:\\users\\hp\\appdata\\roaming\\python\\python37\\site-packages (from pyscreenshot) (1.1)\n",
      "Requirement already satisfied: EasyProcess in c:\\users\\hp\\appdata\\roaming\\python\\python37\\site-packages (from pyscreenshot) (1.1)\n",
      "Requirement already satisfied: mss; python_version > \"3.4\" in c:\\users\\hp\\appdata\\roaming\\python\\python37\\site-packages (from pyscreenshot) (7.0.1)\n"
     ]
    },
    {
     "name": "stderr",
     "output_type": "stream",
     "text": [
      "WARNING: You are using pip version 20.1.1; however, version 24.0 is available.\n",
      "You should consider upgrading via the 'c:\\program files\\python37\\python.exe -m pip install --upgrade pip' command.\n"
     ]
    }
   ],
   "source": [
    "!pip install pyscreenshot"
   ]
  },
  {
   "cell_type": "code",
   "execution_count": 2,
   "id": "6511655b-2ac5-46e3-a178-d5c9c6037eff",
   "metadata": {},
   "outputs": [
    {
     "name": "stdout",
     "output_type": "stream",
     "text": [
      "Image 49 saved. Clear screen and write again.\n",
      "Image 50 saved. Clear screen and write again.\n"
     ]
    },
    {
     "ename": "KeyboardInterrupt",
     "evalue": "",
     "output_type": "error",
     "traceback": [
      "\u001b[1;31m---------------------------------------------------------------------------\u001b[0m",
      "\u001b[1;31mKeyboardInterrupt\u001b[0m                         Traceback (most recent call last)",
      "\u001b[1;32m~\\AppData\\Local\\Temp\\ipykernel_8540\\3616175392.py\u001b[0m in \u001b[0;36m<module>\u001b[1;34m\u001b[0m\n\u001b[0;32m     14\u001b[0m         \u001b[0mprint\u001b[0m\u001b[1;33m(\u001b[0m\u001b[1;34mf\"Image {i} saved. Clear screen and write again.\"\u001b[0m\u001b[1;33m)\u001b[0m\u001b[1;33m\u001b[0m\u001b[1;33m\u001b[0m\u001b[0m\n\u001b[0;32m     15\u001b[0m \u001b[1;33m\u001b[0m\u001b[0m\n\u001b[1;32m---> 16\u001b[1;33m \u001b[0mscreen_capture\u001b[0m\u001b[1;33m(\u001b[0m\u001b[1;33m)\u001b[0m\u001b[1;33m\u001b[0m\u001b[1;33m\u001b[0m\u001b[0m\n\u001b[0m",
      "\u001b[1;32m~\\AppData\\Local\\Temp\\ipykernel_8540\\3616175392.py\u001b[0m in \u001b[0;36mscreen_capture\u001b[1;34m()\u001b[0m\n\u001b[0;32m      9\u001b[0m \u001b[1;33m\u001b[0m\u001b[0m\n\u001b[0;32m     10\u001b[0m     \u001b[1;32mfor\u001b[0m \u001b[0mi\u001b[0m \u001b[1;32min\u001b[0m \u001b[0mrange\u001b[0m\u001b[1;33m(\u001b[0m\u001b[1;36m49\u001b[0m\u001b[1;33m,\u001b[0m\u001b[1;36m100\u001b[0m\u001b[1;33m)\u001b[0m\u001b[1;33m:\u001b[0m\u001b[1;33m\u001b[0m\u001b[1;33m\u001b[0m\u001b[0m\n\u001b[1;32m---> 11\u001b[1;33m         \u001b[0mtime\u001b[0m\u001b[1;33m.\u001b[0m\u001b[0msleep\u001b[0m\u001b[1;33m(\u001b[0m\u001b[1;36m4\u001b[0m\u001b[1;33m)\u001b[0m\u001b[1;33m\u001b[0m\u001b[1;33m\u001b[0m\u001b[0m\n\u001b[0m\u001b[0;32m     12\u001b[0m         \u001b[0mim\u001b[0m \u001b[1;33m=\u001b[0m \u001b[0mImageGrab\u001b[0m\u001b[1;33m.\u001b[0m\u001b[0mgrab\u001b[0m\u001b[1;33m(\u001b[0m\u001b[0mbbox\u001b[0m\u001b[1;33m=\u001b[0m\u001b[1;33m(\u001b[0m\u001b[1;36m80\u001b[0m\u001b[1;33m,\u001b[0m \u001b[1;36m260\u001b[0m\u001b[1;33m,\u001b[0m \u001b[1;36m800\u001b[0m\u001b[1;33m,\u001b[0m \u001b[1;36m950\u001b[0m\u001b[1;33m)\u001b[0m\u001b[1;33m)\u001b[0m  \u001b[1;31m# Customize as needed\u001b[0m\u001b[1;33m\u001b[0m\u001b[1;33m\u001b[0m\u001b[0m\n\u001b[0;32m     13\u001b[0m         \u001b[0mim\u001b[0m\u001b[1;33m.\u001b[0m\u001b[0msave\u001b[0m\u001b[1;33m(\u001b[0m\u001b[0mos\u001b[0m\u001b[1;33m.\u001b[0m\u001b[0mpath\u001b[0m\u001b[1;33m.\u001b[0m\u001b[0mjoin\u001b[0m\u001b[1;33m(\u001b[0m\u001b[0mimage_folder\u001b[0m\u001b[1;33m,\u001b[0m \u001b[1;34mf\"{i}.png\"\u001b[0m\u001b[1;33m)\u001b[0m\u001b[1;33m)\u001b[0m\u001b[1;33m\u001b[0m\u001b[1;33m\u001b[0m\u001b[0m\n",
      "\u001b[1;31mKeyboardInterrupt\u001b[0m: "
     ]
    }
   ],
   "source": [
    "def screen_capture():\n",
    "    import pyscreenshot as ImageGrab\n",
    "    import time\n",
    "    import os\n",
    "\n",
    "    image_folder = \"captured_images/9/\"\n",
    "    if not os.path.exists(image_folder):\n",
    "        os.makedirs(image_folder)\n",
    "\n",
    "    for i in range(49,100):\n",
    "        time.sleep(4)\n",
    "        im = ImageGrab.grab(bbox=(80, 260, 800, 950))  # Customize as needed\n",
    "        im.save(os.path.join(image_folder, f\"{i}.png\"))\n",
    "        print(f\"Image {i} saved. Clear screen and write again.\")\n",
    "\n",
    "screen_capture()"
   ]
  },
  {
   "cell_type": "code",
   "execution_count": 3,
   "id": "424bb49b-bf80-4d7f-9404-70dcd674cd69",
   "metadata": {},
   "outputs": [],
   "source": [
    "import numpy as np\n",
    "\n",
    "def create_label(image_name):\n",
    "    \"\"\" Create an one-hot encoded vector from image name \"\"\" \n",
    "    if image_name == '0':  \n",
    "        return np.array([1,0,0,0,0,0,0,0,0,0])\n",
    "    elif image_name == '1':\n",
    "        return np.array([0,1,0,0,0,0,0,0,0,0])\n",
    "    elif image_name == '2':\n",
    "        return np.array([0,0,1,0,0,0,0,0,0,0])\n",
    "    elif image_name == '3':\n",
    "        return np.array([0,0,0,1,0,0,0,0,0,0])\n",
    "    elif image_name == '4':\n",
    "        return np.array([0,0,0,0,1,0,0,0,0,0])\n",
    "    elif image_name == '5':\n",
    "        return np.array([0,0,0,0,0,1,0,0,0,0])\n",
    "    elif image_name == '6':\n",
    "        return np.array([0,0,0,0,0,0,1,0,0,0])\n",
    "    elif image_name == '7':\n",
    "        return np.array([0,0,0,0,0,0,0,1,0,0])\n",
    "    elif image_name == '8':\n",
    "        return np.array([0,0,0,0,0,0,0,0,1,0])\n",
    "    elif image_name == '9':\n",
    "        return np.array([0,0,0,0,0,0,0,0,0,1])"
   ]
  },
  {
   "cell_type": "code",
   "execution_count": 4,
   "id": "67761126-cbc1-4fb4-a4d7-9ca90990e6fc",
   "metadata": {},
   "outputs": [],
   "source": [
    "import os\n",
    "import cv2\n",
    "from random import shuffle\n",
    "from tqdm import tqdm\n",
    "\n",
    "def create_data():\n",
    "    data = []\n",
    "    for folder in tqdm(os.listdir(\"captured_images\")):\n",
    "        for img in os.listdir(\"captured_images/\"+folder):\n",
    "            path = os.path.join(\"captured_images\",folder, img)\n",
    "            img_data = cv2.imread(path, cv2.IMREAD_GRAYSCALE)\n",
    "            try:\n",
    "                img_data = cv2.resize(img_data, (100,100))\n",
    "            except cv2.error as e:\n",
    "                continue\n",
    "            data.append([np.array(img_data), create_label(folder)])\n",
    "    shuffle(data)\n",
    "    return data"
   ]
  },
  {
   "cell_type": "code",
   "execution_count": 5,
   "id": "184b4992-07f2-4dc8-872b-48ecfa0a51d7",
   "metadata": {},
   "outputs": [
    {
     "name": "stderr",
     "output_type": "stream",
     "text": [
      "  0%|          | 0/10 [00:00<?, ?it/s]"
     ]
    },
    {
     "name": "stderr",
     "output_type": "stream",
     "text": [
      "100%|██████████| 10/10 [00:02<00:00,  3.51it/s]\n"
     ]
    }
   ],
   "source": [
    "data = create_data()"
   ]
  },
  {
   "cell_type": "code",
   "execution_count": 6,
   "id": "b5983acc-901a-463e-a021-2c5791fa8d7b",
   "metadata": {},
   "outputs": [],
   "source": [
    "train = data[:800]\n",
    "test = data[800:]\n",
    "X_train = np.array([i[0] for i in train]).reshape(-1, 100,100, 1)\n",
    "y_train = [i[1] for i in train]\n",
    "X_test = np.array([i[0] for i in test]).reshape(-1, 100,100, 1)\n",
    "y_test = [i[1] for i in test]"
   ]
  },
  {
   "cell_type": "code",
   "execution_count": 7,
   "id": "7eb0a99d-4b9f-482a-a4bc-a2686cd17228",
   "metadata": {},
   "outputs": [
    {
     "name": "stdout",
     "output_type": "stream",
     "text": [
      "WARNING:tensorflow:From e:\\Machine Learning\\Projects\\Hand_written_digit\\venv37\\lib\\site-packages\\tensorflow\\python\\compat\\v2_compat.py:61: disable_resource_variables (from tensorflow.python.ops.variable_scope) is deprecated and will be removed in a future version.\n",
      "Instructions for updating:\n",
      "non-resource variables are not supported in the long term\n",
      "curses is not supported on this machine (please install/reinstall curses for an optimal experience)\n",
      "Scipy not supported!\n"
     ]
    }
   ],
   "source": [
    "import warnings\n",
    "warnings.filterwarnings('ignore')\n",
    "\n",
    "import tensorflow as tf\n",
    "import tflearn\n",
    "from tflearn.layers.conv import conv_2d, max_pool_2d\n",
    "from tflearn.layers.core import input_data, dropout, fully_connected\n",
    "from tflearn.layers.estimator import regression"
   ]
  },
  {
   "cell_type": "code",
   "execution_count": 8,
   "id": "8309f548-713c-464c-a190-ebee72336d9e",
   "metadata": {},
   "outputs": [
    {
     "name": "stdout",
     "output_type": "stream",
     "text": [
      "Training Step: 155  | total loss: \u001b[1m\u001b[32m0.07987\u001b[0m\u001b[0m | time: 2.199s\n",
      "| Adam | epoch: 012 | loss: 0.07987 - acc: 0.9864 -- iter: 768/800\n",
      "Training Step: 156  | total loss: \u001b[1m\u001b[32m0.07463\u001b[0m\u001b[0m | time: 3.409s\n",
      "| Adam | epoch: 012 | loss: 0.07463 - acc: 0.9862 | val_loss: 0.16563 - val_acc: 0.9350 -- iter: 800/800\n",
      "--\n"
     ]
    }
   ],
   "source": [
    "tf.reset_default_graph()\n",
    "convnet = input_data(shape=[100,100, 1], name='input') \n",
    "convnet = conv_2d(convnet, 32, 5, activation='relu')\n",
    "convnet = max_pool_2d(convnet, 5)\n",
    "convnet = conv_2d(convnet, 64, 5, activation='relu')\n",
    "convnet = max_pool_2d(convnet, 5)\n",
    "convnet = conv_2d(convnet, 128, 5, activation='relu')\n",
    "convnet = max_pool_2d(convnet, 5)\n",
    "convnet = conv_2d(convnet, 64, 5, activation='relu')\n",
    "convnet = max_pool_2d(convnet, 5)\n",
    "convnet = conv_2d(convnet, 32, 5, activation='relu')\n",
    "convnet = max_pool_2d(convnet, 5)\n",
    "convnet = fully_connected(convnet, 1024, activation='relu')\n",
    "convnet = dropout(convnet, 0.5) #prevent a model from overfitting\n",
    "convnet = fully_connected(convnet, 10, activation='softmax')\n",
    "convnet = regression(convnet, optimizer='adam', learning_rate=0.001, loss='categorical_crossentropy', name='targets')  \n",
    "model = tflearn.DNN(convnet, tensorboard_verbose=1)  \n",
    "model.fit({'input': X_train}, {'targets': y_train}, n_epoch=12,\n",
    "          validation_set=({'input': X_test}, {'targets': y_test}),\n",
    "          show_metric=True)"
   ]
  },
  {
   "cell_type": "markdown",
   "id": "42c4dd87-d7ac-4d7c-bf17-3f7e5b1100e9",
   "metadata": {},
   "source": [
    "##folder for testing data"
   ]
  },
  {
   "cell_type": "code",
   "execution_count": 150,
   "id": "8541f57d-f3df-45c6-a895-1ecfa0722a84",
   "metadata": {},
   "outputs": [
    {
     "name": "stdout",
     "output_type": "stream",
     "text": [
      "Image 0 saved. Clear screen and write again.\n",
      "Image 1 saved. Clear screen and write again.\n",
      "Image 2 saved. Clear screen and write again.\n",
      "Image 3 saved. Clear screen and write again.\n",
      "Image 4 saved. Clear screen and write again.\n",
      "Image 5 saved. Clear screen and write again.\n",
      "Image 6 saved. Clear screen and write again.\n",
      "Image 7 saved. Clear screen and write again.\n",
      "Image 8 saved. Clear screen and write again.\n",
      "Image 9 saved. Clear screen and write again.\n"
     ]
    }
   ],
   "source": [
    "def screen_capture():\n",
    "    import pyscreenshot as ImageGrab\n",
    "    import time\n",
    "    import os\n",
    "\n",
    "    #image_folder = \"captured_images/9/\"\n",
    "    image_folder=\"new_images\"\n",
    "    if not os.path.exists(image_folder):\n",
    "        os.makedirs(image_folder)\n",
    "\n",
    "    for i in range(10):\n",
    "        time.sleep(5)\n",
    "        im = ImageGrab.grab(bbox=(80, 260, 800, 950))  # Customize as needed\n",
    "        im.save(os.path.join(image_folder, f\"{i}.png\"))\n",
    "        print(f\"Image {i} saved. Clear screen and write again.\")\n",
    "\n",
    "screen_capture()"
   ]
  },
  {
   "cell_type": "code",
   "execution_count": 29,
   "id": "4f6310ea-31dc-4f1c-86e4-8762085dafe8",
   "metadata": {},
   "outputs": [
    {
     "name": "stdout",
     "output_type": "stream",
     "text": [
      "Collecting pyscreenshotNote: you may need to restart the kernel to use updated packages.\n",
      "\n",
      "  Using cached pyscreenshot-3.1-py3-none-any.whl (28 kB)\n",
      "Collecting entrypoint2\n",
      "  Using cached entrypoint2-1.1-py2.py3-none-any.whl (9.9 kB)\n",
      "Collecting mss; python_version > \"3.4\"\n",
      "  Using cached mss-7.0.1-py3-none-any.whl (76 kB)\n",
      "Collecting EasyProcess\n",
      "  Using cached EasyProcess-1.1-py3-none-any.whl (8.7 kB)\n",
      "Installing collected packages: entrypoint2, mss, EasyProcess, pyscreenshot\n",
      "Successfully installed EasyProcess-1.1 entrypoint2-1.1 mss-7.0.1 pyscreenshot-3.1\n"
     ]
    },
    {
     "name": "stderr",
     "output_type": "stream",
     "text": [
      "WARNING: You are using pip version 20.1.1; however, version 24.0 is available.\n",
      "You should consider upgrading via the 'E:\\Machine Learning\\Projects\\Hand_written_digit\\venv37\\Scripts\\python.exe -m pip install --upgrade pip' command.\n"
     ]
    }
   ],
   "source": [
    "pip install pyscreenshot\n"
   ]
  },
  {
   "cell_type": "code",
   "execution_count": 32,
   "id": "772bb1f9-beb1-4c1f-9d28-c957dc0f16cd",
   "metadata": {},
   "outputs": [],
   "source": [
    "###lets predictab\n"
   ]
  },
  {
   "cell_type": "code",
   "execution_count": 9,
   "id": "189556dc-0e11-4748-9290-b4c28ba05b81",
   "metadata": {},
   "outputs": [],
   "source": [
    "def create_test_data():\n",
    "    data = []\n",
    "    for img in tqdm(os.listdir(\"new_images\")):\n",
    "        path = os.path.join(\"new_images\", img)\n",
    "        img_num = img.split('.')[0] \n",
    "        img_data = cv2.imread(path, cv2.IMREAD_GRAYSCALE)\n",
    "        try:\n",
    "            img_data = cv2.resize(img_data, (100,100))\n",
    "        except cv2.error as e:\n",
    "            continue\n",
    "        data.append([np.array(img_data), img_num])\n",
    "\n",
    "    shuffle(data)\n",
    "    return data"
   ]
  },
  {
   "cell_type": "code",
   "execution_count": 12,
   "id": "daef1b58-6449-44cc-982c-9ecbebce2c38",
   "metadata": {},
   "outputs": [
    {
     "name": "stderr",
     "output_type": "stream",
     "text": [
      "100%|██████████| 11/11 [00:00<00:00, 305.35it/s]\n"
     ]
    }
   ],
   "source": [
    "test_data = create_test_data()"
   ]
  },
  {
   "cell_type": "code",
   "execution_count": 13,
   "id": "ea4ac5d9-0e97-471d-85d0-a5e5c6e27319",
   "metadata": {},
   "outputs": [
    {
     "data": {
      "image/png": "[encoded data removed]",
      "text/plain": [
       "<Figure size 1000x1000 with 10 Axes>"
      ]
     },
     "metadata": {},
     "output_type": "display_data"
    }
   ],
   "source": [
    "import matplotlib.pyplot as plt\n",
    "\n",
    "fig = plt.figure(figsize=(10,10))\n",
    "for num, data in enumerate(test_data[:10]):\n",
    "    img_data = data[0]\n",
    "    y = fig.add_subplot(5,5, num + 1)\n",
    "    orig = img_data\n",
    "    data = img_data.reshape(100,100, 1)\n",
    "    model_out = model.predict([data])\n",
    "    str_label = \"Prediction: \" + str(np.argmax(model_out))\n",
    "\n",
    "    y.imshow(orig, cmap='gray')\n",
    "    plt.title(str_label)\n",
    "    y.axes.get_xaxis().set_visible(False)\n",
    "    y.axes.get_yaxis().set_visible(False)\n",
    "plt.show()"
   ]
  },
  {
   "cell_type": "code",
   "execution_count": null,
   "id": "277f8f30-58bc-4b45-a8dc-3b7a6983c628",
   "metadata": {},
   "outputs": [
    {
     "name": "stdout",
     "output_type": "stream",
     "text": [
      "Requirement already satisfied: matplotlib in e:\\machine learning\\projects\\hand_written_digit\\venv37\\lib\\site-packages (3.5.3)\n",
      "Requirement already satisfied: cycler>=0.10 in e:\\machine learning\\projects\\hand_written_digit\\venv37\\lib\\site-packages (from matplotlib) (0.11.0)\n",
      "Requirement already satisfied: pillow>=6.2.0 in e:\\machine learning\\projects\\hand_written_digit\\venv37\\lib\\site-packages (from matplotlib) (9.5.0)\n",
      "Requirement already satisfied: numpy>=1.17 in e:\\machine learning\\projects\\hand_written_digit\\venv37\\lib\\site-packages (from matplotlib) (1.21.6)\n",
      "Requirement already satisfied: kiwisolver>=1.0.1 in e:\\machine learning\\projects\\hand_written_digit\\venv37\\lib\\site-packages (from matplotlib) (1.4.5)\n",
      "Requirement already satisfied: pyparsing>=2.2.1 in e:\\machine learning\\projects\\hand_written_digit\\venv37\\lib\\site-packages (from matplotlib) (3.1.4)\n",
      "Requirement already satisfied: python-dateutil>=2.7 in e:\\machine learning\\projects\\hand_written_digit\\venv37\\lib\\site-packages (from matplotlib) (2.9.0.post0)\n",
      "Requirement already satisfied: packaging>=20.0 in e:\\machine learning\\projects\\hand_written_digit\\venv37\\lib\\site-packages (from matplotlib) (24.0)\n",
      "Requirement already satisfied: fonttools>=4.22.0 in e:\\machine learning\\projects\\hand_written_digit\\venv37\\lib\\site-packages (from matplotlib) (4.38.0)\n",
      "Requirement already satisfied: typing-extensions; python_version < \"3.8\" in e:\\machine learning\\projects\\hand_written_digit\\venv37\\lib\\site-packages (from kiwisolver>=1.0.1->matplotlib) (4.7.1)\n",
      "Requirement already satisfied: six>=1.5 in e:\\machine learning\\projects\\hand_written_digit\\venv37\\lib\\site-packages (from python-dateutil>=2.7->matplotlib) (1.17.0)\n",
      "Note: you may need to restart the kernel to use updated packages.\n"
     ]
    },
    {
     "name": "stderr",
     "output_type": "stream",
     "text": [
      "WARNING: You are using pip version 20.1.1; however, version 24.0 is available.\n",
      "You should consider upgrading via the 'E:\\Machine Learning\\Projects\\Hand_written_digit\\venv37\\Scripts\\python.exe -m pip install --upgrade pip' command.\n"
     ]
    }
   ],
   "source": [
    "\n"
   ]
  },
  {
   "cell_type": "code",
   "execution_count": null,
   "id": "8be43d8f-97ef-4351-aa29-12f41b506805",
   "metadata": {},
   "outputs": [],
   "source": []
  }
 ],
 "metadata": {
  "kernelspec": {
   "display_name": "Python 3.7 (venv37)",
   "language": "python",
   "name": "venv37"
  },
  "language_info": {
   "codemirror_mode": {
    "name": "ipython",
    "version": 3
   },
   "file_extension": ".py",
   "mimetype": "text/x-python",
   "name": "python",
   "nbconvert_exporter": "python",
   "pygments_lexer": "ipython3",
   "version": "3.7.9"
  }
 },
 "nbformat": 4,
 "nbformat_minor": 5
}
